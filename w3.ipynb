{
  "nbformat": 4,
  "nbformat_minor": 0,
  "metadata": {
    "colab": {
      "provenance": [],
      "authorship_tag": "ABX9TyMI7C0BOwCbtJ9xsNPZls2B",
      "include_colab_link": true
    },
    "kernelspec": {
      "name": "python3",
      "display_name": "Python 3"
    },
    "language_info": {
      "name": "python"
    }
  },
  "cells": [
    {
      "cell_type": "markdown",
      "metadata": {
        "id": "view-in-github",
        "colab_type": "text"
      },
      "source": [
        "<a href=\"https://colab.research.google.com/github/rroszczyk/1DI1541/blob/main/w3.ipynb\" target=\"_parent\"><img src=\"https://colab.research.google.com/assets/colab-badge.svg\" alt=\"Open In Colab\"/></a>"
      ]
    },
    {
      "cell_type": "code",
      "execution_count": 1,
      "metadata": {
        "id": "5uhHNWYEisY_",
        "colab": {
          "base_uri": "https://localhost:8080/"
        },
        "outputId": "fd56140b-13a7-460e-e6e7-7f62d3d29ae0"
      },
      "outputs": [
        {
          "output_type": "stream",
          "name": "stdout",
          "text": [
            "{}\n",
            "--------------------------------------------------------------------------------\n",
            "Cache-Control: private, max-age=0\n",
            "Content-Encoding: gzip\n",
            "Content-Security-Policy-Report-Only: object-src 'none';base-uri 'self';script-src 'nonce-NtFmvALgOgHLm2qU7fB6JQ' 'strict-dynamic' 'report-sample' 'unsafe-eval' 'unsafe-inline' https: http:;report-uri https://csp.withgoogle.com/csp/gws/other-hp\n",
            "Content-Type: text/html; charset=ISO-8859-1\n",
            "Date: Wed, 25 Oct 2023 14:24:16 GMT\n",
            "Expires: -1\n",
            "P3P: CP=\"This is not a P3P policy! See g.co/p3phelp for more info.\"\n",
            "Server: gws\n",
            "Set-Cookie: 1P_JAR=2023-10-25-14; expires=Fri, 24-Nov-2023 14:24:16 GMT; path=/; domain=.google.com; Secure, AEC=Ackid1Sa-23zvo93Rtz8cJV374BpEL6obg55fbFO-v9l3OWbz6_-6vn54A; expires=Mon, 22-Apr-2024 14:24:16 GMT; path=/; domain=.google.com; Secure; HttpOnly; SameSite=lax, NID=511=jlyKjRiWUCtx99DH6Rbzg0dJSVTNyaWJhtRMzQr8LfwtwHZPZKdm2MSU2pfjwST0p1_pV1jGAFkOrqbAPv6O0BskIlCPiWq-GlNfuXHYEhXkCYMD-Fca_VHAkkMH-xXYjEa9jb5yt3uGjrEl1lE3W4kA7tAw57kMBy6CCeT8J5M; expires=Thu, 25-Apr-2024 14:24:16 GMT; path=/; domain=.google.com; HttpOnly\n",
            "Transfer-Encoding: chunked\n",
            "X-Frame-Options: SAMEORIGIN\n",
            "X-XSS-Protection: 0\n",
            "--------------------------------------------------------------------------------\n",
            "1P_JAR: 2023-10-25-14\n",
            "AEC: Ackid1Sa-23zvo93Rtz8cJV374BpEL6obg55fbFO-v9l3OWbz6_-6vn54A\n",
            "NID: 511=jlyKjRiWUCtx99DH6Rbzg0dJSVTNyaWJhtRMzQr8LfwtwHZPZKdm2MSU2pfjwST0p1_pV1jGAFkOrqbAPv6O0BskIlCPiWq-GlNfuXHYEhXkCYMD-Fca_VHAkkMH-xXYjEa9jb5yt3uGjrEl1lE3W4kA7tAw57kMBy6CCeT8J5M\n"
          ]
        }
      ],
      "source": [
        "# Google\n",
        "\n",
        "import requests\n",
        "\n",
        "session = requests.Session()\n",
        "\n",
        "print(session.cookies.get_dict())\n",
        "\n",
        "print(\"-\"*80)\n",
        "\n",
        "response = session.get('https://www.google.com')\n",
        "\n",
        "for (label, value) in sorted(response.headers.items()):\n",
        "  print(f\"{label}: {value}\")\n",
        "\n",
        "print(\"-\"*80)\n",
        "\n",
        "for (label, value) in sorted(session.cookies.get_dict().items()):\n",
        "  print(f\"{label}: {value}\")"
      ]
    },
    {
      "cell_type": "code",
      "source": [
        "# Google\n",
        "\n",
        "import json\n",
        "import requests\n",
        "\n",
        "session = requests.session()\n",
        "\n",
        "response = requests.get('http://google.com', timeout=30)\n",
        "\n",
        "with open('cookies.txt', 'w', encoding='utf-8') as f:\n",
        "    json.dump(requests.utils.dict_from_cookiejar(response.cookies), f)\n",
        "\n",
        "for (label, value) in sorted(response.headers.items()):\n",
        "  print(f\"{label}: {value}\")\n",
        "\n",
        "print(\"-\"*80)\n",
        "\n",
        "for (label, value) in sorted(response.cookies.get_dict().items()):\n",
        "  print(f\"{label}: {value}\")"
      ],
      "metadata": {
        "id": "CXlSEHjek2J_",
        "colab": {
          "base_uri": "https://localhost:8080/"
        },
        "outputId": "581f6f00-bab3-475b-99da-0161e3a7d114"
      },
      "execution_count": 2,
      "outputs": [
        {
          "output_type": "stream",
          "name": "stdout",
          "text": [
            "Cache-Control: private, max-age=0\n",
            "Content-Encoding: gzip\n",
            "Content-Length: 7991\n",
            "Content-Security-Policy-Report-Only: object-src 'none';base-uri 'self';script-src 'nonce-n_2n3dfhnib1x2FuvM7rRw' 'strict-dynamic' 'report-sample' 'unsafe-eval' 'unsafe-inline' https: http:;report-uri https://csp.withgoogle.com/csp/gws/other-hp\n",
            "Content-Type: text/html; charset=ISO-8859-1\n",
            "Date: Wed, 25 Oct 2023 14:24:18 GMT\n",
            "Expires: -1\n",
            "P3P: CP=\"This is not a P3P policy! See g.co/p3phelp for more info.\"\n",
            "Server: gws\n",
            "Set-Cookie: 1P_JAR=2023-10-25-14; expires=Fri, 24-Nov-2023 14:24:18 GMT; path=/; domain=.google.com; Secure, AEC=Ackid1TK5vjo6Jp7nrIMjc2J5I4BFs64P7LG2bUiIXNY8gHbnuZqwWGCHQ; expires=Mon, 22-Apr-2024 14:24:18 GMT; path=/; domain=.google.com; Secure; HttpOnly; SameSite=lax, NID=511=HGgDfP5B3Ykzq2NiN1jjadxSx4DstikWTk5iajWplZdipbmFLBGLDzXIXb-NshRAFrNG2znpDZ9TJ7voNDZr6NIjsSwk1fUDvfaumMpzhd_FL3O1ZjdsTqdsVrjw-QJM82xT2ldNXvKbFR4EhI8hrQTrMromTSpenAvxlm2SpKY; expires=Thu, 25-Apr-2024 14:24:18 GMT; path=/; domain=.google.com; HttpOnly\n",
            "X-Frame-Options: SAMEORIGIN\n",
            "X-XSS-Protection: 0\n",
            "--------------------------------------------------------------------------------\n",
            "1P_JAR: 2023-10-25-14\n",
            "AEC: Ackid1TK5vjo6Jp7nrIMjc2J5I4BFs64P7LG2bUiIXNY8gHbnuZqwWGCHQ\n",
            "NID: 511=HGgDfP5B3Ykzq2NiN1jjadxSx4DstikWTk5iajWplZdipbmFLBGLDzXIXb-NshRAFrNG2znpDZ9TJ7voNDZr6NIjsSwk1fUDvfaumMpzhd_FL3O1ZjdsTqdsVrjw-QJM82xT2ldNXvKbFR4EhI8hrQTrMromTSpenAvxlm2SpKY\n"
          ]
        }
      ]
    },
    {
      "cell_type": "code",
      "source": [
        "# Google\n",
        "\n",
        "import json\n",
        "import requests\n",
        "\n",
        "session = requests.session()\n",
        "\n",
        "with open('cookies.txt', 'r', encoding='utf-8') as f:\n",
        "    cookies = requests.utils.cookiejar_from_dict(json.load(f))\n",
        "    session.cookies.update(cookies)\n",
        "\n",
        "for (label, value) in sorted(response.headers.items()):\n",
        "  print(f\"{label}: {value}\")\n",
        "\n",
        "print(\"-\"*80)\n",
        "\n",
        "for (label, value) in sorted(session.cookies.get_dict().items()):\n",
        "  print(f\"{label}: {value}\")"
      ],
      "metadata": {
        "id": "5yVxxbBokKqg",
        "colab": {
          "base_uri": "https://localhost:8080/"
        },
        "outputId": "1017dc36-1c46-4cde-9b40-053db694f7cc"
      },
      "execution_count": 3,
      "outputs": [
        {
          "output_type": "stream",
          "name": "stdout",
          "text": [
            "Cache-Control: private, max-age=0\n",
            "Content-Encoding: gzip\n",
            "Content-Length: 7991\n",
            "Content-Security-Policy-Report-Only: object-src 'none';base-uri 'self';script-src 'nonce-n_2n3dfhnib1x2FuvM7rRw' 'strict-dynamic' 'report-sample' 'unsafe-eval' 'unsafe-inline' https: http:;report-uri https://csp.withgoogle.com/csp/gws/other-hp\n",
            "Content-Type: text/html; charset=ISO-8859-1\n",
            "Date: Wed, 25 Oct 2023 14:24:18 GMT\n",
            "Expires: -1\n",
            "P3P: CP=\"This is not a P3P policy! See g.co/p3phelp for more info.\"\n",
            "Server: gws\n",
            "Set-Cookie: 1P_JAR=2023-10-25-14; expires=Fri, 24-Nov-2023 14:24:18 GMT; path=/; domain=.google.com; Secure, AEC=Ackid1TK5vjo6Jp7nrIMjc2J5I4BFs64P7LG2bUiIXNY8gHbnuZqwWGCHQ; expires=Mon, 22-Apr-2024 14:24:18 GMT; path=/; domain=.google.com; Secure; HttpOnly; SameSite=lax, NID=511=HGgDfP5B3Ykzq2NiN1jjadxSx4DstikWTk5iajWplZdipbmFLBGLDzXIXb-NshRAFrNG2znpDZ9TJ7voNDZr6NIjsSwk1fUDvfaumMpzhd_FL3O1ZjdsTqdsVrjw-QJM82xT2ldNXvKbFR4EhI8hrQTrMromTSpenAvxlm2SpKY; expires=Thu, 25-Apr-2024 14:24:18 GMT; path=/; domain=.google.com; HttpOnly\n",
            "X-Frame-Options: SAMEORIGIN\n",
            "X-XSS-Protection: 0\n",
            "--------------------------------------------------------------------------------\n",
            "1P_JAR: 2023-10-25-14\n",
            "AEC: Ackid1TK5vjo6Jp7nrIMjc2J5I4BFs64P7LG2bUiIXNY8gHbnuZqwWGCHQ\n",
            "NID: 511=HGgDfP5B3Ykzq2NiN1jjadxSx4DstikWTk5iajWplZdipbmFLBGLDzXIXb-NshRAFrNG2znpDZ9TJ7voNDZr6NIjsSwk1fUDvfaumMpzhd_FL3O1ZjdsTqdsVrjw-QJM82xT2ldNXvKbFR4EhI8hrQTrMromTSpenAvxlm2SpKY\n"
          ]
        }
      ]
    },
    {
      "cell_type": "markdown",
      "source": [
        "## HTTPBIN"
      ],
      "metadata": {
        "id": "i8rZMKR3wB84"
      }
    },
    {
      "cell_type": "code",
      "source": [
        "import requests\n",
        "\n",
        "session = requests.Session()\n",
        "\n",
        "response = session.get(\n",
        "    'https://httpbin.org/cookies',\n",
        "    cookies={'moje-ciasteczko': 'wartosc'}\n",
        ")\n",
        "\n",
        "print(\"-\"*80)\n",
        "for (label, value) in sorted(response.headers.items()):\n",
        "  print(f\"{label}: {value}\")\n",
        "\n",
        "print(\"\")\n",
        "\n",
        "print(response.text, end=\"\")\n",
        "print(\"-\"*80)"
      ],
      "metadata": {
        "id": "svcD45C_jl7t",
        "colab": {
          "base_uri": "https://localhost:8080/"
        },
        "outputId": "9ec41f7a-6807-472f-c76b-9f30acc8ed52"
      },
      "execution_count": 4,
      "outputs": [
        {
          "output_type": "stream",
          "name": "stdout",
          "text": [
            "--------------------------------------------------------------------------------\n",
            "Access-Control-Allow-Credentials: true\n",
            "Access-Control-Allow-Origin: *\n",
            "Connection: keep-alive\n",
            "Content-Length: 56\n",
            "Content-Type: application/json\n",
            "Date: Wed, 25 Oct 2023 14:24:18 GMT\n",
            "Server: gunicorn/19.9.0\n",
            "\n",
            "{\n",
            "  \"cookies\": {\n",
            "    \"moje-ciasteczko\": \"wartosc\"\n",
            "  }\n",
            "}\n",
            "--------------------------------------------------------------------------------\n"
          ]
        }
      ]
    },
    {
      "cell_type": "code",
      "source": [
        "import requests\n",
        "\n",
        "session = requests.Session()\n",
        "\n",
        "response = session.get('https://httpbin.org/cookies/set?imie=Radoslaw&nazwisko=Roszczyk', timeout=30)\n",
        "\n",
        "print(\"- 1 \" + \"-\"*76)\n",
        "for (label, value) in sorted(response.headers.items()):\n",
        "  print(f\"{label}: {value}\")\n",
        "\n",
        "print(\"\")\n",
        "\n",
        "print(response.text, end=\"\")\n",
        "print(\"-\"*80)\n",
        "\n",
        "response = session.get('https://httpbin.org/cookies', timeout=30)\n",
        "\n",
        "print(\"- 2 \" + \"-\"*76)\n",
        "for (label, value) in sorted(response.headers.items()):\n",
        "  print(f\"{label}: {value}\")\n",
        "\n",
        "print(\"\")\n",
        "\n",
        "print(response.text, end=\"\")\n",
        "print(\"-\"*80)\n",
        "\n",
        "response = session.get('https://httpbin.org/cookies/set?uczelnia=Politechnika%20Warszawska', timeout=30)\n",
        "\n",
        "print(\"- 3 \" + \"-\"*76)\n",
        "for (label, value) in sorted(response.headers.items()):\n",
        "  print(f\"{label}: {value}\")\n",
        "\n",
        "print(\"\")\n",
        "\n",
        "print(response.text, end=\"\")\n",
        "print(\"-\"*80)\n",
        "\n",
        "response = session.get('https://httpbin.org/cookies/delete?imie&nazwisko', timeout=30)\n",
        "\n",
        "print(\"- 4 \" + \"-\"*76)\n",
        "for (label, value) in sorted(response.headers.items()):\n",
        "  print(f\"{label}: {value}\")\n",
        "\n",
        "print(\"\")\n",
        "\n",
        "print(response.text, end=\"\")\n",
        "print(\"-\"*80)"
      ],
      "metadata": {
        "id": "ZTRD3h8GkhBr",
        "colab": {
          "base_uri": "https://localhost:8080/"
        },
        "outputId": "74e18168-d45a-4324-91b8-6b1a542326e9"
      },
      "execution_count": 5,
      "outputs": [
        {
          "output_type": "stream",
          "name": "stdout",
          "text": [
            "- 1 ----------------------------------------------------------------------------\n",
            "Access-Control-Allow-Credentials: true\n",
            "Access-Control-Allow-Origin: *\n",
            "Connection: keep-alive\n",
            "Content-Length: 75\n",
            "Content-Type: application/json\n",
            "Date: Wed, 25 Oct 2023 14:24:18 GMT\n",
            "Server: gunicorn/19.9.0\n",
            "\n",
            "{\n",
            "  \"cookies\": {\n",
            "    \"imie\": \"Radoslaw\", \n",
            "    \"nazwisko\": \"Roszczyk\"\n",
            "  }\n",
            "}\n",
            "--------------------------------------------------------------------------------\n",
            "- 2 ----------------------------------------------------------------------------\n",
            "Access-Control-Allow-Credentials: true\n",
            "Access-Control-Allow-Origin: *\n",
            "Connection: keep-alive\n",
            "Content-Length: 75\n",
            "Content-Type: application/json\n",
            "Date: Wed, 25 Oct 2023 14:24:18 GMT\n",
            "Server: gunicorn/19.9.0\n",
            "\n",
            "{\n",
            "  \"cookies\": {\n",
            "    \"imie\": \"Radoslaw\", \n",
            "    \"nazwisko\": \"Roszczyk\"\n",
            "  }\n",
            "}\n",
            "--------------------------------------------------------------------------------\n",
            "- 3 ----------------------------------------------------------------------------\n",
            "Access-Control-Allow-Credentials: true\n",
            "Access-Control-Allow-Origin: *\n",
            "Connection: keep-alive\n",
            "Content-Length: 119\n",
            "Content-Type: application/json\n",
            "Date: Wed, 25 Oct 2023 14:24:18 GMT\n",
            "Server: gunicorn/19.9.0\n",
            "\n",
            "{\n",
            "  \"cookies\": {\n",
            "    \"imie\": \"Radoslaw\", \n",
            "    \"nazwisko\": \"Roszczyk\", \n",
            "    \"uczelnia\": \"Politechnika Warszawska\"\n",
            "  }\n",
            "}\n",
            "--------------------------------------------------------------------------------\n",
            "- 4 ----------------------------------------------------------------------------\n",
            "Access-Control-Allow-Credentials: true\n",
            "Access-Control-Allow-Origin: *\n",
            "Connection: keep-alive\n",
            "Content-Length: 65\n",
            "Content-Type: application/json\n",
            "Date: Wed, 25 Oct 2023 14:24:18 GMT\n",
            "Server: gunicorn/19.9.0\n",
            "\n",
            "{\n",
            "  \"cookies\": {\n",
            "    \"uczelnia\": \"Politechnika Warszawska\"\n",
            "  }\n",
            "}\n",
            "--------------------------------------------------------------------------------\n"
          ]
        }
      ]
    }
  ]
}